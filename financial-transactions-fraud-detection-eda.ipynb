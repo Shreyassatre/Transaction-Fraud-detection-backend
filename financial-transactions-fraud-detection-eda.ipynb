{
 "cells": [
  {
   "cell_type": "code",
   "execution_count": 1,
   "id": "d051d0eb",
   "metadata": {
    "_cell_guid": "b1076dfc-b9ad-4769-8c92-a6c4dae69d19",
    "_uuid": "8f2839f25d086af736a60e9eeb907d3b93b6e0e5",
    "execution": {
     "iopub.execute_input": "2024-12-08T14:26:43.174044Z",
     "iopub.status.busy": "2024-12-08T14:26:43.173735Z",
     "iopub.status.idle": "2024-12-08T14:26:43.945172Z",
     "shell.execute_reply": "2024-12-08T14:26:43.944303Z"
    },
    "papermill": {
     "duration": 0.780283,
     "end_time": "2024-12-08T14:26:43.947360",
     "exception": false,
     "start_time": "2024-12-08T14:26:43.167077",
     "status": "completed"
    },
    "tags": []
   },
   "outputs": [
    {
     "name": "stdout",
     "output_type": "stream",
     "text": [
      "/kaggle/input/financial-transactions-data/Synthetic_Financial_datasets_log.csv\n"
     ]
    }
   ],
   "source": [
    "# This Python 3 environment comes with many helpful analytics libraries installed\n",
    "# It is defined by the kaggle/python Docker image: https://github.com/kaggle/docker-python\n",
    "# For example, here's several helpful packages to load\n",
    "\n",
    "import numpy as np # linear algebra\n",
    "import pandas as pd # data processing, CSV file I/O (e.g. pd.read_csv)\n",
    "\n",
    "# Input data files are available in the read-only \"../input/\" directory\n",
    "# For example, running this (by clicking run or pressing Shift+Enter) will list all files under the input directory\n",
    "\n",
    "import os\n",
    "for dirname, _, filenames in os.walk('/kaggle/input'):\n",
    "    for filename in filenames:\n",
    "        print(os.path.join(dirname, filename))\n",
    "\n",
    "# You can write up to 20GB to the current directory (/kaggle/working/) that gets preserved as output when you create a version using \"Save & Run All\" \n",
    "# You can also write temporary files to /kaggle/temp/, but they won't be saved outside of the current session"
   ]
  },
  {
   "cell_type": "code",
   "execution_count": 2,
   "id": "434546f9",
   "metadata": {
    "execution": {
     "iopub.execute_input": "2024-12-08T14:26:43.960650Z",
     "iopub.status.busy": "2024-12-08T14:26:43.959784Z",
     "iopub.status.idle": "2024-12-08T14:26:46.113003Z",
     "shell.execute_reply": "2024-12-08T14:26:46.111759Z"
    },
    "papermill": {
     "duration": 2.161177,
     "end_time": "2024-12-08T14:26:46.115217",
     "exception": false,
     "start_time": "2024-12-08T14:26:43.954040",
     "status": "completed"
    },
    "tags": []
   },
   "outputs": [],
   "source": [
    "import pandas as pd\n",
    "import matplotlib.pyplot as plt\n",
    "import seaborn as sns\n",
    "\n",
    "from sklearn.model_selection import train_test_split, GridSearchCV\n",
    "from sklearn.metrics import classification_report, roc_auc_score, precision_recall_curve\n",
    "from xgboost import XGBClassifier\n",
    "from imblearn.over_sampling import SMOTE\n",
    "from sklearn.preprocessing import OneHotEncoder"
   ]
  },
  {
   "cell_type": "code",
   "execution_count": 3,
   "id": "e3f5f2de",
   "metadata": {
    "execution": {
     "iopub.execute_input": "2024-12-08T14:26:46.127972Z",
     "iopub.status.busy": "2024-12-08T14:26:46.126629Z",
     "iopub.status.idle": "2024-12-08T14:27:03.350598Z",
     "shell.execute_reply": "2024-12-08T14:27:03.349796Z"
    },
    "papermill": {
     "duration": 17.232003,
     "end_time": "2024-12-08T14:27:03.352607",
     "exception": false,
     "start_time": "2024-12-08T14:26:46.120604",
     "status": "completed"
    },
    "tags": []
   },
   "outputs": [],
   "source": [
    "file_path = \"/kaggle/input/financial-transactions-data/Synthetic_Financial_datasets_log.csv\"\n",
    "df = pd.read_csv(file_path)"
   ]
  },
  {
   "cell_type": "code",
   "execution_count": 4,
   "id": "feb55ce8",
   "metadata": {
    "execution": {
     "iopub.execute_input": "2024-12-08T14:27:03.364193Z",
     "iopub.status.busy": "2024-12-08T14:27:03.363830Z",
     "iopub.status.idle": "2024-12-08T14:27:03.368330Z",
     "shell.execute_reply": "2024-12-08T14:27:03.367451Z"
    },
    "papermill": {
     "duration": 0.012307,
     "end_time": "2024-12-08T14:27:03.370264",
     "exception": false,
     "start_time": "2024-12-08T14:27:03.357957",
     "status": "completed"
    },
    "tags": []
   },
   "outputs": [
    {
     "name": "stdout",
     "output_type": "stream",
     "text": [
      "Dataset Shape: (6362620, 11)\n"
     ]
    }
   ],
   "source": [
    "print(\"Dataset Shape:\", df.shape)"
   ]
  },
  {
   "cell_type": "code",
   "execution_count": 5,
   "id": "8e6c19fe",
   "metadata": {
    "execution": {
     "iopub.execute_input": "2024-12-08T14:27:03.381012Z",
     "iopub.status.busy": "2024-12-08T14:27:03.380779Z",
     "iopub.status.idle": "2024-12-08T14:27:03.385762Z",
     "shell.execute_reply": "2024-12-08T14:27:03.384884Z"
    },
    "papermill": {
     "duration": 0.012697,
     "end_time": "2024-12-08T14:27:03.387958",
     "exception": false,
     "start_time": "2024-12-08T14:27:03.375261",
     "status": "completed"
    },
    "tags": []
   },
   "outputs": [
    {
     "name": "stdout",
     "output_type": "stream",
     "text": [
      "\n",
      "Column Names and Data Types:\n",
      " step                int64\n",
      "type               object\n",
      "amount            float64\n",
      "nameOrig           object\n",
      "oldbalanceOrg     float64\n",
      "newbalanceOrig    float64\n",
      "nameDest           object\n",
      "oldbalanceDest    float64\n",
      "newbalanceDest    float64\n",
      "isFraud             int64\n",
      "isFlaggedFraud      int64\n",
      "dtype: object\n"
     ]
    }
   ],
   "source": [
    "print(\"\\nColumn Names and Data Types:\\n\", df.dtypes)"
   ]
  },
  {
   "cell_type": "code",
   "execution_count": 6,
   "id": "a7d7288e",
   "metadata": {
    "execution": {
     "iopub.execute_input": "2024-12-08T14:27:03.399948Z",
     "iopub.status.busy": "2024-12-08T14:27:03.399725Z",
     "iopub.status.idle": "2024-12-08T14:27:03.422762Z",
     "shell.execute_reply": "2024-12-08T14:27:03.421964Z"
    },
    "papermill": {
     "duration": 0.031049,
     "end_time": "2024-12-08T14:27:03.424483",
     "exception": false,
     "start_time": "2024-12-08T14:27:03.393434",
     "status": "completed"
    },
    "tags": []
   },
   "outputs": [
    {
     "data": {
      "text/html": [
       "<div>\n",
       "<style scoped>\n",
       "    .dataframe tbody tr th:only-of-type {\n",
       "        vertical-align: middle;\n",
       "    }\n",
       "\n",
       "    .dataframe tbody tr th {\n",
       "        vertical-align: top;\n",
       "    }\n",
       "\n",
       "    .dataframe thead th {\n",
       "        text-align: right;\n",
       "    }\n",
       "</style>\n",
       "<table border=\"1\" class=\"dataframe\">\n",
       "  <thead>\n",
       "    <tr style=\"text-align: right;\">\n",
       "      <th></th>\n",
       "      <th>step</th>\n",
       "      <th>type</th>\n",
       "      <th>amount</th>\n",
       "      <th>nameOrig</th>\n",
       "      <th>oldbalanceOrg</th>\n",
       "      <th>newbalanceOrig</th>\n",
       "      <th>nameDest</th>\n",
       "      <th>oldbalanceDest</th>\n",
       "      <th>newbalanceDest</th>\n",
       "      <th>isFraud</th>\n",
       "      <th>isFlaggedFraud</th>\n",
       "    </tr>\n",
       "  </thead>\n",
       "  <tbody>\n",
       "    <tr>\n",
       "      <th>0</th>\n",
       "      <td>1</td>\n",
       "      <td>PAYMENT</td>\n",
       "      <td>9839.64</td>\n",
       "      <td>C1231006815</td>\n",
       "      <td>170136.0</td>\n",
       "      <td>160296.36</td>\n",
       "      <td>M1979787155</td>\n",
       "      <td>0.0</td>\n",
       "      <td>0.0</td>\n",
       "      <td>0</td>\n",
       "      <td>0</td>\n",
       "    </tr>\n",
       "    <tr>\n",
       "      <th>1</th>\n",
       "      <td>1</td>\n",
       "      <td>PAYMENT</td>\n",
       "      <td>1864.28</td>\n",
       "      <td>C1666544295</td>\n",
       "      <td>21249.0</td>\n",
       "      <td>19384.72</td>\n",
       "      <td>M2044282225</td>\n",
       "      <td>0.0</td>\n",
       "      <td>0.0</td>\n",
       "      <td>0</td>\n",
       "      <td>0</td>\n",
       "    </tr>\n",
       "    <tr>\n",
       "      <th>2</th>\n",
       "      <td>1</td>\n",
       "      <td>TRANSFER</td>\n",
       "      <td>181.00</td>\n",
       "      <td>C1305486145</td>\n",
       "      <td>181.0</td>\n",
       "      <td>0.00</td>\n",
       "      <td>C553264065</td>\n",
       "      <td>0.0</td>\n",
       "      <td>0.0</td>\n",
       "      <td>1</td>\n",
       "      <td>0</td>\n",
       "    </tr>\n",
       "    <tr>\n",
       "      <th>3</th>\n",
       "      <td>1</td>\n",
       "      <td>CASH_OUT</td>\n",
       "      <td>181.00</td>\n",
       "      <td>C840083671</td>\n",
       "      <td>181.0</td>\n",
       "      <td>0.00</td>\n",
       "      <td>C38997010</td>\n",
       "      <td>21182.0</td>\n",
       "      <td>0.0</td>\n",
       "      <td>1</td>\n",
       "      <td>0</td>\n",
       "    </tr>\n",
       "    <tr>\n",
       "      <th>4</th>\n",
       "      <td>1</td>\n",
       "      <td>PAYMENT</td>\n",
       "      <td>11668.14</td>\n",
       "      <td>C2048537720</td>\n",
       "      <td>41554.0</td>\n",
       "      <td>29885.86</td>\n",
       "      <td>M1230701703</td>\n",
       "      <td>0.0</td>\n",
       "      <td>0.0</td>\n",
       "      <td>0</td>\n",
       "      <td>0</td>\n",
       "    </tr>\n",
       "  </tbody>\n",
       "</table>\n",
       "</div>"
      ],
      "text/plain": [
       "   step      type    amount     nameOrig  oldbalanceOrg  newbalanceOrig  \\\n",
       "0     1   PAYMENT   9839.64  C1231006815       170136.0       160296.36   \n",
       "1     1   PAYMENT   1864.28  C1666544295        21249.0        19384.72   \n",
       "2     1  TRANSFER    181.00  C1305486145          181.0            0.00   \n",
       "3     1  CASH_OUT    181.00   C840083671          181.0            0.00   \n",
       "4     1   PAYMENT  11668.14  C2048537720        41554.0        29885.86   \n",
       "\n",
       "      nameDest  oldbalanceDest  newbalanceDest  isFraud  isFlaggedFraud  \n",
       "0  M1979787155             0.0             0.0        0               0  \n",
       "1  M2044282225             0.0             0.0        0               0  \n",
       "2   C553264065             0.0             0.0        1               0  \n",
       "3    C38997010         21182.0             0.0        1               0  \n",
       "4  M1230701703             0.0             0.0        0               0  "
      ]
     },
     "execution_count": 6,
     "metadata": {},
     "output_type": "execute_result"
    }
   ],
   "source": [
    "df.head()"
   ]
  },
  {
   "cell_type": "markdown",
   "id": "e07939ba",
   "metadata": {
    "papermill": {
     "duration": 0.004877,
     "end_time": "2024-12-08T14:27:03.434623",
     "exception": false,
     "start_time": "2024-12-08T14:27:03.429746",
     "status": "completed"
    },
    "tags": []
   },
   "source": [
    "1. Check for Null values in dataset"
   ]
  },
  {
   "cell_type": "code",
   "execution_count": 7,
   "id": "5df08330",
   "metadata": {
    "execution": {
     "iopub.execute_input": "2024-12-08T14:27:03.445937Z",
     "iopub.status.busy": "2024-12-08T14:27:03.445439Z",
     "iopub.status.idle": "2024-12-08T14:27:04.285543Z",
     "shell.execute_reply": "2024-12-08T14:27:04.284303Z"
    },
    "papermill": {
     "duration": 0.847762,
     "end_time": "2024-12-08T14:27:04.287469",
     "exception": false,
     "start_time": "2024-12-08T14:27:03.439707",
     "status": "completed"
    },
    "tags": []
   },
   "outputs": [
    {
     "name": "stdout",
     "output_type": "stream",
     "text": [
      "\n",
      "Missing Values in Each Column:\n",
      " step              0\n",
      "type              0\n",
      "amount            0\n",
      "nameOrig          0\n",
      "oldbalanceOrg     0\n",
      "newbalanceOrig    0\n",
      "nameDest          0\n",
      "oldbalanceDest    0\n",
      "newbalanceDest    0\n",
      "isFraud           0\n",
      "isFlaggedFraud    0\n",
      "dtype: int64\n",
      "\n",
      "Note: as it is a synthetic data there are not null values in databse\n"
     ]
    }
   ],
   "source": [
    "missing_values = df.isnull().sum()\n",
    "print(\"\\nMissing Values in Each Column:\\n\", missing_values)\n",
    "print(\"\\nNote: as it is a synthetic data there are not null values in databse\")"
   ]
  },
  {
   "cell_type": "markdown",
   "id": "193eb0ac",
   "metadata": {
    "papermill": {
     "duration": 0.005096,
     "end_time": "2024-12-08T14:27:04.298290",
     "exception": false,
     "start_time": "2024-12-08T14:27:04.293194",
     "status": "completed"
    },
    "tags": []
   },
   "source": [
    "2. Check for types of transactions."
   ]
  },
  {
   "cell_type": "code",
   "execution_count": 8,
   "id": "09915a34",
   "metadata": {
    "execution": {
     "iopub.execute_input": "2024-12-08T14:27:04.309365Z",
     "iopub.status.busy": "2024-12-08T14:27:04.309115Z",
     "iopub.status.idle": "2024-12-08T14:27:04.627938Z",
     "shell.execute_reply": "2024-12-08T14:27:04.626847Z"
    },
    "papermill": {
     "duration": 0.326419,
     "end_time": "2024-12-08T14:27:04.629660",
     "exception": false,
     "start_time": "2024-12-08T14:27:04.303241",
     "status": "completed"
    },
    "tags": []
   },
   "outputs": [
    {
     "name": "stdout",
     "output_type": "stream",
     "text": [
      "\n",
      "Unique Values in 'type' column:\n",
      " ['PAYMENT' 'TRANSFER' 'CASH_OUT' 'DEBIT' 'CASH_IN']\n"
     ]
    }
   ],
   "source": [
    "print(\"\\nUnique Values in 'type' column:\\n\", df['type'].unique())"
   ]
  },
  {
   "cell_type": "markdown",
   "id": "85bb5975",
   "metadata": {
    "papermill": {
     "duration": 0.005046,
     "end_time": "2024-12-08T14:27:04.640140",
     "exception": false,
     "start_time": "2024-12-08T14:27:04.635094",
     "status": "completed"
    },
    "tags": []
   },
   "source": [
    "3. Checking wich type has more frauds."
   ]
  },
  {
   "cell_type": "code",
   "execution_count": 9,
   "id": "d688f1ef",
   "metadata": {
    "execution": {
     "iopub.execute_input": "2024-12-08T14:27:04.652498Z",
     "iopub.status.busy": "2024-12-08T14:27:04.651740Z",
     "iopub.status.idle": "2024-12-08T14:27:05.091240Z",
     "shell.execute_reply": "2024-12-08T14:27:05.090208Z"
    },
    "papermill": {
     "duration": 0.447889,
     "end_time": "2024-12-08T14:27:05.093157",
     "exception": false,
     "start_time": "2024-12-08T14:27:04.645268",
     "status": "completed"
    },
    "tags": []
   },
   "outputs": [
    {
     "name": "stdout",
     "output_type": "stream",
     "text": [
      "          Total Transactions  Fraudulent Transactions  \\\n",
      "type                                                    \n",
      "CASH_IN              1399284                        0   \n",
      "CASH_OUT             2237500                     4116   \n",
      "DEBIT                  41432                        0   \n",
      "PAYMENT              2151495                        0   \n",
      "TRANSFER              532909                     4097   \n",
      "\n",
      "          Potential Fraud (isFlaggedFraud)  \n",
      "type                                        \n",
      "CASH_IN                                  0  \n",
      "CASH_OUT                                 0  \n",
      "DEBIT                                    0  \n",
      "PAYMENT                                  0  \n",
      "TRANSFER                                16  \n"
     ]
    }
   ],
   "source": [
    "total_transactions_by_type = df['type'].value_counts()\n",
    "\n",
    "fraud_transactions_by_type = df[df['isFraud'] == 1]['type'].value_counts()\n",
    "\n",
    "flagged_transactions_by_type = df[df['isFlaggedFraud'] == 1]['type'].value_counts()\n",
    "\n",
    "fraud_summary = pd.DataFrame({\n",
    "    'Total Transactions': total_transactions_by_type,\n",
    "    'Fraudulent Transactions': fraud_transactions_by_type,\n",
    "    'Potential Fraud (isFlaggedFraud)': flagged_transactions_by_type\n",
    "}).fillna(0)\n",
    "\n",
    "fraud_summary['Fraudulent Transactions'] = fraud_summary['Fraudulent Transactions'].astype(int)\n",
    "fraud_summary['Potential Fraud (isFlaggedFraud)'] = fraud_summary['Potential Fraud (isFlaggedFraud)'].astype(int)\n",
    "\n",
    "print(fraud_summary)\n"
   ]
  },
  {
   "cell_type": "markdown",
   "id": "34455875",
   "metadata": {
    "papermill": {
     "duration": 0.005145,
     "end_time": "2024-12-08T14:27:05.103776",
     "exception": false,
     "start_time": "2024-12-08T14:27:05.098631",
     "status": "completed"
    },
    "tags": []
   },
   "source": [
    "4. Checking if Data Imbalance present in dataset."
   ]
  },
  {
   "cell_type": "code",
   "execution_count": 10,
   "id": "911f07a5",
   "metadata": {
    "execution": {
     "iopub.execute_input": "2024-12-08T14:27:05.115849Z",
     "iopub.status.busy": "2024-12-08T14:27:05.115503Z",
     "iopub.status.idle": "2024-12-08T14:27:05.184960Z",
     "shell.execute_reply": "2024-12-08T14:27:05.184054Z"
    },
    "papermill": {
     "duration": 0.077254,
     "end_time": "2024-12-08T14:27:05.186647",
     "exception": false,
     "start_time": "2024-12-08T14:27:05.109393",
     "status": "completed"
    },
    "tags": []
   },
   "outputs": [
    {
     "name": "stdout",
     "output_type": "stream",
     "text": [
      "\n",
      "Distribution of 'isFraud' Column:\n",
      " isFraud\n",
      "0    6354407\n",
      "1       8213\n",
      "Name: count, dtype: int64\n",
      "\n",
      "Distribution of 'isFlaggedFraud' Column:\n",
      " isFlaggedFraud\n",
      "0    6362604\n",
      "1         16\n",
      "Name: count, dtype: int64\n"
     ]
    }
   ],
   "source": [
    "print(\"\\nDistribution of 'isFraud' Column:\\n\", df['isFraud'].value_counts())\n",
    "print(\"\\nDistribution of 'isFlaggedFraud' Column:\\n\", df['isFlaggedFraud'].value_counts())"
   ]
  },
  {
   "cell_type": "markdown",
   "id": "254272b0",
   "metadata": {
    "papermill": {
     "duration": 0.005286,
     "end_time": "2024-12-08T14:27:05.197161",
     "exception": false,
     "start_time": "2024-12-08T14:27:05.191875",
     "status": "completed"
    },
    "tags": []
   },
   "source": [
    "Note: Here we have data imbalance because of non-fraud transactions are more in comparision with fraud transactions."
   ]
  },
  {
   "cell_type": "markdown",
   "id": "618efce8",
   "metadata": {
    "papermill": {
     "duration": 0.005125,
     "end_time": "2024-12-08T14:27:05.207489",
     "exception": false,
     "start_time": "2024-12-08T14:27:05.202364",
     "status": "completed"
    },
    "tags": []
   },
   "source": [
    "5. Making Categories amout wise to see which amount reange has more frauds."
   ]
  },
  {
   "cell_type": "code",
   "execution_count": 11,
   "id": "2dddff9d",
   "metadata": {
    "execution": {
     "iopub.execute_input": "2024-12-08T14:27:05.219277Z",
     "iopub.status.busy": "2024-12-08T14:27:05.219022Z",
     "iopub.status.idle": "2024-12-08T14:27:05.791961Z",
     "shell.execute_reply": "2024-12-08T14:27:05.791045Z"
    },
    "papermill": {
     "duration": 0.580825,
     "end_time": "2024-12-08T14:27:05.793629",
     "exception": false,
     "start_time": "2024-12-08T14:27:05.212804",
     "status": "completed"
    },
    "tags": []
   },
   "outputs": [
    {
     "name": "stderr",
     "output_type": "stream",
     "text": [
      "/tmp/ipykernel_23/1541298191.py:6: FutureWarning: The default of observed=False is deprecated and will be changed to True in a future version of pandas. Pass observed=False to retain current behavior or observed=True to adopt the future default and silence this warning.\n",
      "  fraud_rate_by_amount_category = df.groupby('amountCategory')['isFraud'].mean().reset_index()\n",
      "/opt/conda/lib/python3.10/site-packages/seaborn/categorical.py:641: FutureWarning: The default of observed=False is deprecated and will be changed to True in a future version of pandas. Pass observed=False to retain current behavior or observed=True to adopt the future default and silence this warning.\n",
      "  grouped_vals = vals.groupby(grouper)\n"
     ]
    },
    {
     "data": {
      "image/png": "[encoded data removed]",
      "text/plain": [
       "<Figure size 1200x600 with 1 Axes>"
      ]
     },
     "metadata": {},
     "output_type": "display_data"
    },
    {
     "data": {
      "text/html": [
       "<div>\n",
       "<style scoped>\n",
       "    .dataframe tbody tr th:only-of-type {\n",
       "        vertical-align: middle;\n",
       "    }\n",
       "\n",
       "    .dataframe tbody tr th {\n",
       "        vertical-align: top;\n",
       "    }\n",
       "\n",
       "    .dataframe thead th {\n",
       "        text-align: right;\n",
       "    }\n",
       "</style>\n",
       "<table border=\"1\" class=\"dataframe\">\n",
       "  <thead>\n",
       "    <tr style=\"text-align: right;\">\n",
       "      <th></th>\n",
       "      <th>step</th>\n",
       "      <th>type</th>\n",
       "      <th>amount</th>\n",
       "      <th>nameOrig</th>\n",
       "      <th>oldbalanceOrg</th>\n",
       "      <th>newbalanceOrig</th>\n",
       "      <th>nameDest</th>\n",
       "      <th>oldbalanceDest</th>\n",
       "      <th>newbalanceDest</th>\n",
       "      <th>isFraud</th>\n",
       "      <th>isFlaggedFraud</th>\n",
       "      <th>amountCategory</th>\n",
       "    </tr>\n",
       "  </thead>\n",
       "  <tbody>\n",
       "    <tr>\n",
       "      <th>0</th>\n",
       "      <td>1</td>\n",
       "      <td>PAYMENT</td>\n",
       "      <td>9839.64</td>\n",
       "      <td>C1231006815</td>\n",
       "      <td>170136.0</td>\n",
       "      <td>160296.36</td>\n",
       "      <td>M1979787155</td>\n",
       "      <td>0.0</td>\n",
       "      <td>0.0</td>\n",
       "      <td>0</td>\n",
       "      <td>0</td>\n",
       "      <td>medium_high</td>\n",
       "    </tr>\n",
       "    <tr>\n",
       "      <th>1</th>\n",
       "      <td>1</td>\n",
       "      <td>PAYMENT</td>\n",
       "      <td>1864.28</td>\n",
       "      <td>C1666544295</td>\n",
       "      <td>21249.0</td>\n",
       "      <td>19384.72</td>\n",
       "      <td>M2044282225</td>\n",
       "      <td>0.0</td>\n",
       "      <td>0.0</td>\n",
       "      <td>0</td>\n",
       "      <td>0</td>\n",
       "      <td>medium</td>\n",
       "    </tr>\n",
       "    <tr>\n",
       "      <th>2</th>\n",
       "      <td>1</td>\n",
       "      <td>TRANSFER</td>\n",
       "      <td>181.00</td>\n",
       "      <td>C1305486145</td>\n",
       "      <td>181.0</td>\n",
       "      <td>0.00</td>\n",
       "      <td>C553264065</td>\n",
       "      <td>0.0</td>\n",
       "      <td>0.0</td>\n",
       "      <td>1</td>\n",
       "      <td>0</td>\n",
       "      <td>low</td>\n",
       "    </tr>\n",
       "    <tr>\n",
       "      <th>3</th>\n",
       "      <td>1</td>\n",
       "      <td>CASH_OUT</td>\n",
       "      <td>181.00</td>\n",
       "      <td>C840083671</td>\n",
       "      <td>181.0</td>\n",
       "      <td>0.00</td>\n",
       "      <td>C38997010</td>\n",
       "      <td>21182.0</td>\n",
       "      <td>0.0</td>\n",
       "      <td>1</td>\n",
       "      <td>0</td>\n",
       "      <td>low</td>\n",
       "    </tr>\n",
       "    <tr>\n",
       "      <th>4</th>\n",
       "      <td>1</td>\n",
       "      <td>PAYMENT</td>\n",
       "      <td>11668.14</td>\n",
       "      <td>C2048537720</td>\n",
       "      <td>41554.0</td>\n",
       "      <td>29885.86</td>\n",
       "      <td>M1230701703</td>\n",
       "      <td>0.0</td>\n",
       "      <td>0.0</td>\n",
       "      <td>0</td>\n",
       "      <td>0</td>\n",
       "      <td>high</td>\n",
       "    </tr>\n",
       "  </tbody>\n",
       "</table>\n",
       "</div>"
      ],
      "text/plain": [
       "   step      type    amount     nameOrig  oldbalanceOrg  newbalanceOrig  \\\n",
       "0     1   PAYMENT   9839.64  C1231006815       170136.0       160296.36   \n",
       "1     1   PAYMENT   1864.28  C1666544295        21249.0        19384.72   \n",
       "2     1  TRANSFER    181.00  C1305486145          181.0            0.00   \n",
       "3     1  CASH_OUT    181.00   C840083671          181.0            0.00   \n",
       "4     1   PAYMENT  11668.14  C2048537720        41554.0        29885.86   \n",
       "\n",
       "      nameDest  oldbalanceDest  newbalanceDest  isFraud  isFlaggedFraud  \\\n",
       "0  M1979787155             0.0             0.0        0               0   \n",
       "1  M2044282225             0.0             0.0        0               0   \n",
       "2   C553264065             0.0             0.0        1               0   \n",
       "3    C38997010         21182.0             0.0        1               0   \n",
       "4  M1230701703             0.0             0.0        0               0   \n",
       "\n",
       "  amountCategory  \n",
       "0    medium_high  \n",
       "1         medium  \n",
       "2            low  \n",
       "3            low  \n",
       "4           high  "
      ]
     },
     "execution_count": 11,
     "metadata": {},
     "output_type": "execute_result"
    }
   ],
   "source": [
    "bins = [0, 1000, 5000, 10000, 20000, 50000, 100000, 200000, float('inf')]\n",
    "labels = ['low', 'medium', 'medium_high', 'high', 'very_high', 'extremely_high', 'super_high', 'mega_high']\n",
    "\n",
    "df['amountCategory'] = pd.cut(df['amount'], bins=bins, labels=labels)\n",
    "\n",
    "fraud_rate_by_amount_category = df.groupby('amountCategory')['isFraud'].mean().reset_index()\n",
    "\n",
    "plt.figure(figsize=(12, 6))\n",
    "sns.barplot(x='amountCategory', y='isFraud', data=fraud_rate_by_amount_category)\n",
    "plt.title('Fraud Rate by Transaction Amount Category')\n",
    "plt.xlabel('Transaction Amount Category')\n",
    "plt.ylabel('Fraud Rate')\n",
    "plt.xticks(rotation=45)\n",
    "plt.show()\n",
    "\n",
    "df.head()"
   ]
  },
  {
   "cell_type": "code",
   "execution_count": 12,
   "id": "e26b54d0",
   "metadata": {
    "execution": {
     "iopub.execute_input": "2024-12-08T14:27:05.807781Z",
     "iopub.status.busy": "2024-12-08T14:27:05.807239Z",
     "iopub.status.idle": "2024-12-08T14:27:05.823309Z",
     "shell.execute_reply": "2024-12-08T14:27:05.822417Z"
    },
    "papermill": {
     "duration": 0.025081,
     "end_time": "2024-12-08T14:27:05.825079",
     "exception": false,
     "start_time": "2024-12-08T14:27:05.799998",
     "status": "completed"
    },
    "tags": []
   },
   "outputs": [
    {
     "data": {
      "text/html": [
       "<div>\n",
       "<style scoped>\n",
       "    .dataframe tbody tr th:only-of-type {\n",
       "        vertical-align: middle;\n",
       "    }\n",
       "\n",
       "    .dataframe tbody tr th {\n",
       "        vertical-align: top;\n",
       "    }\n",
       "\n",
       "    .dataframe thead th {\n",
       "        text-align: right;\n",
       "    }\n",
       "</style>\n",
       "<table border=\"1\" class=\"dataframe\">\n",
       "  <thead>\n",
       "    <tr style=\"text-align: right;\">\n",
       "      <th></th>\n",
       "      <th>step</th>\n",
       "      <th>type</th>\n",
       "      <th>amount</th>\n",
       "      <th>nameOrig</th>\n",
       "      <th>oldbalanceOrg</th>\n",
       "      <th>newbalanceOrig</th>\n",
       "      <th>nameDest</th>\n",
       "      <th>oldbalanceDest</th>\n",
       "      <th>newbalanceDest</th>\n",
       "      <th>isFraud</th>\n",
       "      <th>isFlaggedFraud</th>\n",
       "      <th>amountCategory</th>\n",
       "    </tr>\n",
       "  </thead>\n",
       "  <tbody>\n",
       "    <tr>\n",
       "      <th>0</th>\n",
       "      <td>1</td>\n",
       "      <td>PAYMENT</td>\n",
       "      <td>9839.64</td>\n",
       "      <td>C1231006815</td>\n",
       "      <td>170136.00</td>\n",
       "      <td>160296.36</td>\n",
       "      <td>M1979787155</td>\n",
       "      <td>0.00</td>\n",
       "      <td>0.00</td>\n",
       "      <td>0</td>\n",
       "      <td>0</td>\n",
       "      <td>medium_high</td>\n",
       "    </tr>\n",
       "    <tr>\n",
       "      <th>1</th>\n",
       "      <td>1</td>\n",
       "      <td>PAYMENT</td>\n",
       "      <td>1864.28</td>\n",
       "      <td>C1666544295</td>\n",
       "      <td>21249.00</td>\n",
       "      <td>19384.72</td>\n",
       "      <td>M2044282225</td>\n",
       "      <td>0.00</td>\n",
       "      <td>0.00</td>\n",
       "      <td>0</td>\n",
       "      <td>0</td>\n",
       "      <td>medium</td>\n",
       "    </tr>\n",
       "    <tr>\n",
       "      <th>2</th>\n",
       "      <td>1</td>\n",
       "      <td>TRANSFER</td>\n",
       "      <td>181.00</td>\n",
       "      <td>C1305486145</td>\n",
       "      <td>181.00</td>\n",
       "      <td>0.00</td>\n",
       "      <td>C553264065</td>\n",
       "      <td>0.00</td>\n",
       "      <td>0.00</td>\n",
       "      <td>1</td>\n",
       "      <td>0</td>\n",
       "      <td>low</td>\n",
       "    </tr>\n",
       "    <tr>\n",
       "      <th>3</th>\n",
       "      <td>1</td>\n",
       "      <td>CASH_OUT</td>\n",
       "      <td>181.00</td>\n",
       "      <td>C840083671</td>\n",
       "      <td>181.00</td>\n",
       "      <td>0.00</td>\n",
       "      <td>C38997010</td>\n",
       "      <td>21182.00</td>\n",
       "      <td>0.00</td>\n",
       "      <td>1</td>\n",
       "      <td>0</td>\n",
       "      <td>low</td>\n",
       "    </tr>\n",
       "    <tr>\n",
       "      <th>4</th>\n",
       "      <td>1</td>\n",
       "      <td>PAYMENT</td>\n",
       "      <td>11668.14</td>\n",
       "      <td>C2048537720</td>\n",
       "      <td>41554.00</td>\n",
       "      <td>29885.86</td>\n",
       "      <td>M1230701703</td>\n",
       "      <td>0.00</td>\n",
       "      <td>0.00</td>\n",
       "      <td>0</td>\n",
       "      <td>0</td>\n",
       "      <td>high</td>\n",
       "    </tr>\n",
       "    <tr>\n",
       "      <th>...</th>\n",
       "      <td>...</td>\n",
       "      <td>...</td>\n",
       "      <td>...</td>\n",
       "      <td>...</td>\n",
       "      <td>...</td>\n",
       "      <td>...</td>\n",
       "      <td>...</td>\n",
       "      <td>...</td>\n",
       "      <td>...</td>\n",
       "      <td>...</td>\n",
       "      <td>...</td>\n",
       "      <td>...</td>\n",
       "    </tr>\n",
       "    <tr>\n",
       "      <th>6362615</th>\n",
       "      <td>743</td>\n",
       "      <td>CASH_OUT</td>\n",
       "      <td>339682.13</td>\n",
       "      <td>C786484425</td>\n",
       "      <td>339682.13</td>\n",
       "      <td>0.00</td>\n",
       "      <td>C776919290</td>\n",
       "      <td>0.00</td>\n",
       "      <td>339682.13</td>\n",
       "      <td>1</td>\n",
       "      <td>0</td>\n",
       "      <td>mega_high</td>\n",
       "    </tr>\n",
       "    <tr>\n",
       "      <th>6362616</th>\n",
       "      <td>743</td>\n",
       "      <td>TRANSFER</td>\n",
       "      <td>6311409.28</td>\n",
       "      <td>C1529008245</td>\n",
       "      <td>6311409.28</td>\n",
       "      <td>0.00</td>\n",
       "      <td>C1881841831</td>\n",
       "      <td>0.00</td>\n",
       "      <td>0.00</td>\n",
       "      <td>1</td>\n",
       "      <td>0</td>\n",
       "      <td>mega_high</td>\n",
       "    </tr>\n",
       "    <tr>\n",
       "      <th>6362617</th>\n",
       "      <td>743</td>\n",
       "      <td>CASH_OUT</td>\n",
       "      <td>6311409.28</td>\n",
       "      <td>C1162922333</td>\n",
       "      <td>6311409.28</td>\n",
       "      <td>0.00</td>\n",
       "      <td>C1365125890</td>\n",
       "      <td>68488.84</td>\n",
       "      <td>6379898.11</td>\n",
       "      <td>1</td>\n",
       "      <td>0</td>\n",
       "      <td>mega_high</td>\n",
       "    </tr>\n",
       "    <tr>\n",
       "      <th>6362618</th>\n",
       "      <td>743</td>\n",
       "      <td>TRANSFER</td>\n",
       "      <td>850002.52</td>\n",
       "      <td>C1685995037</td>\n",
       "      <td>850002.52</td>\n",
       "      <td>0.00</td>\n",
       "      <td>C2080388513</td>\n",
       "      <td>0.00</td>\n",
       "      <td>0.00</td>\n",
       "      <td>1</td>\n",
       "      <td>0</td>\n",
       "      <td>mega_high</td>\n",
       "    </tr>\n",
       "    <tr>\n",
       "      <th>6362619</th>\n",
       "      <td>743</td>\n",
       "      <td>CASH_OUT</td>\n",
       "      <td>850002.52</td>\n",
       "      <td>C1280323807</td>\n",
       "      <td>850002.52</td>\n",
       "      <td>0.00</td>\n",
       "      <td>C873221189</td>\n",
       "      <td>6510099.11</td>\n",
       "      <td>7360101.63</td>\n",
       "      <td>1</td>\n",
       "      <td>0</td>\n",
       "      <td>mega_high</td>\n",
       "    </tr>\n",
       "  </tbody>\n",
       "</table>\n",
       "<p>6362620 rows × 12 columns</p>\n",
       "</div>"
      ],
      "text/plain": [
       "         step      type      amount     nameOrig  oldbalanceOrg  \\\n",
       "0           1   PAYMENT     9839.64  C1231006815      170136.00   \n",
       "1           1   PAYMENT     1864.28  C1666544295       21249.00   \n",
       "2           1  TRANSFER      181.00  C1305486145         181.00   \n",
       "3           1  CASH_OUT      181.00   C840083671         181.00   \n",
       "4           1   PAYMENT    11668.14  C2048537720       41554.00   \n",
       "...       ...       ...         ...          ...            ...   \n",
       "6362615   743  CASH_OUT   339682.13   C786484425      339682.13   \n",
       "6362616   743  TRANSFER  6311409.28  C1529008245     6311409.28   \n",
       "6362617   743  CASH_OUT  6311409.28  C1162922333     6311409.28   \n",
       "6362618   743  TRANSFER   850002.52  C1685995037      850002.52   \n",
       "6362619   743  CASH_OUT   850002.52  C1280323807      850002.52   \n",
       "\n",
       "         newbalanceOrig     nameDest  oldbalanceDest  newbalanceDest  isFraud  \\\n",
       "0             160296.36  M1979787155            0.00            0.00        0   \n",
       "1              19384.72  M2044282225            0.00            0.00        0   \n",
       "2                  0.00   C553264065            0.00            0.00        1   \n",
       "3                  0.00    C38997010        21182.00            0.00        1   \n",
       "4              29885.86  M1230701703            0.00            0.00        0   \n",
       "...                 ...          ...             ...             ...      ...   \n",
       "6362615            0.00   C776919290            0.00       339682.13        1   \n",
       "6362616            0.00  C1881841831            0.00            0.00        1   \n",
       "6362617            0.00  C1365125890        68488.84      6379898.11        1   \n",
       "6362618            0.00  C2080388513            0.00            0.00        1   \n",
       "6362619            0.00   C873221189      6510099.11      7360101.63        1   \n",
       "\n",
       "         isFlaggedFraud amountCategory  \n",
       "0                     0    medium_high  \n",
       "1                     0         medium  \n",
       "2                     0            low  \n",
       "3                     0            low  \n",
       "4                     0           high  \n",
       "...                 ...            ...  \n",
       "6362615               0      mega_high  \n",
       "6362616               0      mega_high  \n",
       "6362617               0      mega_high  \n",
       "6362618               0      mega_high  \n",
       "6362619               0      mega_high  \n",
       "\n",
       "[6362620 rows x 12 columns]"
      ]
     },
     "execution_count": 12,
     "metadata": {},
     "output_type": "execute_result"
    }
   ],
   "source": [
    "df"
   ]
  },
  {
   "cell_type": "code",
   "execution_count": 13,
   "id": "aaac358b",
   "metadata": {
    "execution": {
     "iopub.execute_input": "2024-12-08T14:27:05.840419Z",
     "iopub.status.busy": "2024-12-08T14:27:05.840193Z",
     "iopub.status.idle": "2024-12-08T14:27:42.043179Z",
     "shell.execute_reply": "2024-12-08T14:27:42.042325Z"
    },
    "papermill": {
     "duration": 36.213511,
     "end_time": "2024-12-08T14:27:42.045731",
     "exception": false,
     "start_time": "2024-12-08T14:27:05.832220",
     "status": "completed"
    },
    "tags": []
   },
   "outputs": [],
   "source": [
    "df.to_csv('updated_dataset.csv')"
   ]
  },
  {
   "cell_type": "code",
   "execution_count": 14,
   "id": "4a8f45a5",
   "metadata": {
    "execution": {
     "iopub.execute_input": "2024-12-08T14:27:42.064814Z",
     "iopub.status.busy": "2024-12-08T14:27:42.064483Z",
     "iopub.status.idle": "2024-12-08T14:27:54.571440Z",
     "shell.execute_reply": "2024-12-08T14:27:54.570443Z"
    },
    "papermill": {
     "duration": 12.516772,
     "end_time": "2024-12-08T14:27:54.573634",
     "exception": false,
     "start_time": "2024-12-08T14:27:42.056862",
     "status": "completed"
    },
    "tags": []
   },
   "outputs": [],
   "source": [
    "# Load dataset\n",
    "df = pd.read_csv('/kaggle/working/updated_dataset.csv')"
   ]
  },
  {
   "cell_type": "code",
   "execution_count": 15,
   "id": "8cb45b68",
   "metadata": {
    "execution": {
     "iopub.execute_input": "2024-12-08T14:27:54.588150Z",
     "iopub.status.busy": "2024-12-08T14:27:54.587864Z",
     "iopub.status.idle": "2024-12-08T14:27:54.593531Z",
     "shell.execute_reply": "2024-12-08T14:27:54.592664Z"
    },
    "papermill": {
     "duration": 0.014565,
     "end_time": "2024-12-08T14:27:54.595102",
     "exception": false,
     "start_time": "2024-12-08T14:27:54.580537",
     "status": "completed"
    },
    "tags": []
   },
   "outputs": [
    {
     "data": {
      "text/plain": [
       "Index(['Unnamed: 0', 'step', 'type', 'amount', 'nameOrig', 'oldbalanceOrg',\n",
       "       'newbalanceOrig', 'nameDest', 'oldbalanceDest', 'newbalanceDest',\n",
       "       'isFraud', 'isFlaggedFraud', 'amountCategory'],\n",
       "      dtype='object')"
      ]
     },
     "execution_count": 15,
     "metadata": {},
     "output_type": "execute_result"
    }
   ],
   "source": [
    "df.columns"
   ]
  },
  {
   "cell_type": "markdown",
   "id": "cbdfc685",
   "metadata": {
    "papermill": {
     "duration": 0.006315,
     "end_time": "2024-12-08T14:27:54.607870",
     "exception": false,
     "start_time": "2024-12-08T14:27:54.601555",
     "status": "completed"
    },
    "tags": []
   },
   "source": [
    "7. Handling data imabalance by oversampling fraud transaction."
   ]
  },
  {
   "cell_type": "code",
   "execution_count": 16,
   "id": "6eeb43fc",
   "metadata": {
    "execution": {
     "iopub.execute_input": "2024-12-08T14:27:54.622437Z",
     "iopub.status.busy": "2024-12-08T14:27:54.622165Z",
     "iopub.status.idle": "2024-12-08T14:28:06.861693Z",
     "shell.execute_reply": "2024-12-08T14:28:06.860920Z"
    },
    "papermill": {
     "duration": 12.249207,
     "end_time": "2024-12-08T14:28:06.863668",
     "exception": false,
     "start_time": "2024-12-08T14:27:54.614461",
     "status": "completed"
    },
    "tags": []
   },
   "outputs": [],
   "source": [
    "df.drop(['oldbalanceOrg', 'newbalanceOrig', 'oldbalanceDest', 'newbalanceDest', 'isFlaggedFraud', 'nameOrig', 'nameDest', 'Unnamed: 0'], axis=1, inplace=True)\n",
    "\n",
    "encoder = OneHotEncoder(drop='first')\n",
    "encoded_cols = encoder.fit_transform(df[['type', 'amountCategory']]).toarray()\n",
    "encoded_df = pd.DataFrame(encoded_cols, columns=encoder.get_feature_names_out())\n",
    "\n",
    "df = pd.concat([df.drop(['type', 'amountCategory'], axis=1), encoded_df], axis=1)\n",
    "\n",
    "X = df.drop('isFraud', axis=1)\n",
    "y = df['isFraud']\n",
    "\n",
    "smote = SMOTE(sampling_strategy='minority')\n",
    "X_res, y_res = smote.fit_resample(X, y)"
   ]
  },
  {
   "cell_type": "markdown",
   "id": "5c57f289",
   "metadata": {
    "papermill": {
     "duration": 0.006918,
     "end_time": "2024-12-08T14:28:06.877639",
     "exception": false,
     "start_time": "2024-12-08T14:28:06.870721",
     "status": "completed"
    },
    "tags": []
   },
   "source": [
    "Data Preparation for model training."
   ]
  },
  {
   "cell_type": "code",
   "execution_count": 17,
   "id": "437ca544",
   "metadata": {
    "execution": {
     "iopub.execute_input": "2024-12-08T14:28:06.891967Z",
     "iopub.status.busy": "2024-12-08T14:28:06.891661Z",
     "iopub.status.idle": "2024-12-08T14:28:13.662597Z",
     "shell.execute_reply": "2024-12-08T14:28:13.661656Z"
    },
    "papermill": {
     "duration": 6.780612,
     "end_time": "2024-12-08T14:28:13.664750",
     "exception": false,
     "start_time": "2024-12-08T14:28:06.884138",
     "status": "completed"
    },
    "tags": []
   },
   "outputs": [],
   "source": [
    "X_train, X_test, y_train, y_test = train_test_split(X_res, y_res, test_size=0.2, stratify=y_res)"
   ]
  },
  {
   "cell_type": "markdown",
   "id": "3e1d00d0",
   "metadata": {
    "papermill": {
     "duration": 0.006362,
     "end_time": "2024-12-08T14:28:13.678526",
     "exception": false,
     "start_time": "2024-12-08T14:28:13.672164",
     "status": "completed"
    },
    "tags": []
   },
   "source": [
    "**Note:** As our data has data imabalce so we need to choose algorithms that can handle data imabalce while training phase using various methods like providing mode weight to minority class data."
   ]
  },
  {
   "cell_type": "markdown",
   "id": "dded770d",
   "metadata": {
    "papermill": {
     "duration": 0.00663,
     "end_time": "2024-12-08T14:28:13.691529",
     "exception": false,
     "start_time": "2024-12-08T14:28:13.684899",
     "status": "completed"
    },
    "tags": []
   },
   "source": [
    "I. Logistic Regression"
   ]
  },
  {
   "cell_type": "code",
   "execution_count": 18,
   "id": "b0a52d92",
   "metadata": {
    "execution": {
     "iopub.execute_input": "2024-12-08T14:28:13.707301Z",
     "iopub.status.busy": "2024-12-08T14:28:13.706953Z",
     "iopub.status.idle": "2024-12-08T14:28:47.323470Z",
     "shell.execute_reply": "2024-12-08T14:28:47.322401Z"
    },
    "papermill": {
     "duration": 33.627564,
     "end_time": "2024-12-08T14:28:47.325481",
     "exception": false,
     "start_time": "2024-12-08T14:28:13.697917",
     "status": "completed"
    },
    "tags": []
   },
   "outputs": [
    {
     "name": "stdout",
     "output_type": "stream",
     "text": [
      "Logistic Regression Report:\n",
      "              precision    recall  f1-score   support\n",
      "\n",
      "           0       0.69      0.49      0.57   1270881\n",
      "           1       0.60      0.78      0.68   1270882\n",
      "\n",
      "    accuracy                           0.63   2541763\n",
      "   macro avg       0.64      0.63      0.62   2541763\n",
      "weighted avg       0.64      0.63      0.62   2541763\n",
      "\n",
      "Logistic Regression AUC-ROC: 0.734089352110777\n"
     ]
    }
   ],
   "source": [
    "from sklearn.linear_model import LogisticRegression\n",
    "\n",
    "logreg = LogisticRegression(class_weight='balanced', max_iter=1000)\n",
    "logreg.fit(X_train, y_train)\n",
    "\n",
    "y_pred_lr = logreg.predict(X_test)\n",
    "y_pred_prob_lr = logreg.predict_proba(X_test)[:, 1]\n",
    "\n",
    "print(\"Logistic Regression Report:\")\n",
    "print(classification_report(y_test, y_pred_lr))\n",
    "print(f\"Logistic Regression AUC-ROC: {roc_auc_score(y_test, y_pred_prob_lr)}\")"
   ]
  },
  {
   "cell_type": "markdown",
   "id": "a079fc20",
   "metadata": {
    "papermill": {
     "duration": 0.006555,
     "end_time": "2024-12-08T14:28:47.339647",
     "exception": false,
     "start_time": "2024-12-08T14:28:47.333092",
     "status": "completed"
    },
    "tags": []
   },
   "source": [
    "II. Random Forest"
   ]
  },
  {
   "cell_type": "code",
   "execution_count": 19,
   "id": "0f6bf11b",
   "metadata": {
    "execution": {
     "iopub.execute_input": "2024-12-08T14:28:47.354264Z",
     "iopub.status.busy": "2024-12-08T14:28:47.353967Z",
     "iopub.status.idle": "2024-12-08T14:55:22.438762Z",
     "shell.execute_reply": "2024-12-08T14:55:22.437776Z"
    },
    "papermill": {
     "duration": 1595.09439,
     "end_time": "2024-12-08T14:55:22.440724",
     "exception": false,
     "start_time": "2024-12-08T14:28:47.346334",
     "status": "completed"
    },
    "tags": []
   },
   "outputs": [
    {
     "name": "stdout",
     "output_type": "stream",
     "text": [
      "Random Forest Report:\n",
      "              precision    recall  f1-score   support\n",
      "\n",
      "           0       0.98      0.97      0.98   1270881\n",
      "           1       0.97      0.98      0.98   1270882\n",
      "\n",
      "    accuracy                           0.98   2541763\n",
      "   macro avg       0.98      0.98      0.98   2541763\n",
      "weighted avg       0.98      0.98      0.98   2541763\n",
      "\n",
      "Random Forest AUC-ROC: 0.9978932847572708\n"
     ]
    }
   ],
   "source": [
    "from sklearn.ensemble import RandomForestClassifier\n",
    "from sklearn.metrics import classification_report, roc_auc_score\n",
    "\n",
    "rf = RandomForestClassifier(n_estimators=100, random_state=42)\n",
    "rf.fit(X_train, y_train)\n",
    "\n",
    "y_pred_rf = rf.predict(X_test)\n",
    "y_pred_prob_rf = rf.predict_proba(X_test)[:, 1]\n",
    "\n",
    "print(\"Random Forest Report:\")\n",
    "print(classification_report(y_test, y_pred_rf))\n",
    "print(f\"Random Forest AUC-ROC: {roc_auc_score(y_test, y_pred_prob_rf)}\")"
   ]
  },
  {
   "cell_type": "markdown",
   "id": "ed2de61c",
   "metadata": {
    "papermill": {
     "duration": 0.007021,
     "end_time": "2024-12-08T14:55:22.456323",
     "exception": false,
     "start_time": "2024-12-08T14:55:22.449302",
     "status": "completed"
    },
    "tags": []
   },
   "source": [
    "III. XGBoost Classifer"
   ]
  },
  {
   "cell_type": "code",
   "execution_count": 20,
   "id": "933c4bdf",
   "metadata": {
    "execution": {
     "iopub.execute_input": "2024-12-08T14:55:22.470846Z",
     "iopub.status.busy": "2024-12-08T14:55:22.470534Z",
     "iopub.status.idle": "2024-12-08T14:56:27.426394Z",
     "shell.execute_reply": "2024-12-08T14:56:27.425339Z"
    },
    "papermill": {
     "duration": 64.965313,
     "end_time": "2024-12-08T14:56:27.428265",
     "exception": false,
     "start_time": "2024-12-08T14:55:22.462952",
     "status": "completed"
    },
    "tags": []
   },
   "outputs": [
    {
     "name": "stdout",
     "output_type": "stream",
     "text": [
      "XGBoost Report:\n",
      "              precision    recall  f1-score   support\n",
      "\n",
      "           0       0.94      0.96      0.95   1270881\n",
      "           1       0.96      0.93      0.95   1270882\n",
      "\n",
      "    accuracy                           0.95   2541763\n",
      "   macro avg       0.95      0.95      0.95   2541763\n",
      "weighted avg       0.95      0.95      0.95   2541763\n",
      "\n",
      "XGBoost AUC-ROC: 0.9903012271150295\n"
     ]
    }
   ],
   "source": [
    "from xgboost import XGBClassifier\n",
    "\n",
    "xgb = XGBClassifier(scale_pos_weight=len(y_train[y_train == 0]) / len(y_train[y_train == 1]), random_state=42)\n",
    "xgb.fit(X_train, y_train)\n",
    "\n",
    "y_pred_xgb = xgb.predict(X_test)\n",
    "y_pred_prob_xgb = xgb.predict_proba(X_test)[:, 1]\n",
    "\n",
    "print(\"XGBoost Report:\")\n",
    "print(classification_report(y_test, y_pred_xgb))\n",
    "print(f\"XGBoost AUC-ROC: {roc_auc_score(y_test, y_pred_prob_xgb)}\")"
   ]
  },
  {
   "cell_type": "code",
   "execution_count": 21,
   "id": "68c45f82",
   "metadata": {
    "execution": {
     "iopub.execute_input": "2024-12-08T14:56:27.444111Z",
     "iopub.status.busy": "2024-12-08T14:56:27.443812Z",
     "iopub.status.idle": "2024-12-08T14:56:34.910569Z",
     "shell.execute_reply": "2024-12-08T14:56:34.909498Z"
    },
    "papermill": {
     "duration": 7.476577,
     "end_time": "2024-12-08T14:56:34.912450",
     "exception": false,
     "start_time": "2024-12-08T14:56:27.435873",
     "status": "completed"
    },
    "tags": []
   },
   "outputs": [
    {
     "name": "stdout",
     "output_type": "stream",
     "text": [
      "                 Model   AUC-ROC  F1-Score\n",
      "0        Random Forest  0.997893  0.977705\n",
      "1              XGBoost  0.990301  0.947155\n",
      "2  Logistic Regression  0.734089  0.678674\n"
     ]
    }
   ],
   "source": [
    "from sklearn.metrics import f1_score, roc_auc_score\n",
    "\n",
    "results = {\n",
    "    'Model': ['Random Forest', 'XGBoost', 'Logistic Regression'],\n",
    "    'AUC-ROC': [roc_auc_score(y_test, y_pred_prob_rf),\n",
    "                roc_auc_score(y_test, y_pred_prob_xgb),\n",
    "                roc_auc_score(y_test, y_pred_prob_lr)],\n",
    "    'F1-Score': [f1_score(y_test, y_pred_rf),\n",
    "                 f1_score(y_test, y_pred_xgb),\n",
    "                 f1_score(y_test, y_pred_lr)]\n",
    "}\n",
    "\n",
    "results_df = pd.DataFrame(results)\n",
    "print(results_df)\n"
   ]
  },
  {
   "cell_type": "markdown",
   "id": "2d2ec745",
   "metadata": {
    "papermill": {
     "duration": 0.006899,
     "end_time": "2024-12-08T14:56:34.927092",
     "exception": false,
     "start_time": "2024-12-08T14:56:34.920193",
     "status": "completed"
    },
    "tags": []
   },
   "source": [
    "**Conclusion:** By comparing performance of all three model, it shows that Logistc Regression's performance is lower than other 2 models. on other hand, Random forest's accuracy is 100% which tends to be overfitting. That's why I am choosing XGBoost as a final detection model for our usecase."
   ]
  },
  {
   "cell_type": "code",
   "execution_count": 22,
   "id": "251ead78",
   "metadata": {
    "execution": {
     "iopub.execute_input": "2024-12-08T14:56:34.942316Z",
     "iopub.status.busy": "2024-12-08T14:56:34.941759Z",
     "iopub.status.idle": "2024-12-08T14:56:34.950783Z",
     "shell.execute_reply": "2024-12-08T14:56:34.950230Z"
    },
    "papermill": {
     "duration": 0.018683,
     "end_time": "2024-12-08T14:56:34.952658",
     "exception": false,
     "start_time": "2024-12-08T14:56:34.933975",
     "status": "completed"
    },
    "tags": []
   },
   "outputs": [
    {
     "name": "stdout",
     "output_type": "stream",
     "text": [
      "XGBoost model saved!\n"
     ]
    }
   ],
   "source": [
    "import joblib\n",
    "\n",
    "joblib.dump(xgb, 'xgboost_fraud_model.pkl')\n",
    "\n",
    "print(\"XGBoost model saved!\")"
   ]
  }
 ],
 "metadata": {
  "kaggle": {
   "accelerator": "nvidiaTeslaT4",
   "dataSources": [
    {
     "datasetId": 6246401,
     "sourceId": 10122711,
     "sourceType": "datasetVersion"
    }
   ],
   "dockerImageVersionId": 30805,
   "isGpuEnabled": true,
   "isInternetEnabled": true,
   "language": "python",
   "sourceType": "notebook"
  },
  "kernelspec": {
   "display_name": "Python 3",
   "language": "python",
   "name": "python3"
  },
  "language_info": {
   "codemirror_mode": {
    "name": "ipython",
    "version": 3
   },
   "file_extension": ".py",
   "mimetype": "text/x-python",
   "name": "python",
   "nbconvert_exporter": "python",
   "pygments_lexer": "ipython3",
   "version": "3.10.14"
  },
  "papermill": {
   "default_parameters": {},
   "duration": 1795.457239,
   "end_time": "2024-12-08T14:56:36.080615",
   "environment_variables": {},
   "exception": null,
   "input_path": "__notebook__.ipynb",
   "output_path": "__notebook__.ipynb",
   "parameters": {},
   "start_time": "2024-12-08T14:26:40.623376",
   "version": "2.6.0"
  }
 },
 "nbformat": 4,
 "nbformat_minor": 5
}
